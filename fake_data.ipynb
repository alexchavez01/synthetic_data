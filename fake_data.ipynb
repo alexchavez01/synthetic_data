{
  "nbformat": 4,
  "nbformat_minor": 0,
  "metadata": {
    "colab": {
      "provenance": []
    },
    "kernelspec": {
      "name": "python3",
      "display_name": "Python 3"
    },
    "language_info": {
      "name": "python"
    }
  },
  "cells": [
    {
      "cell_type": "code",
      "source": [
        "!pip install faker"
      ],
      "metadata": {
        "colab": {
          "base_uri": "https://localhost:8080/"
        },
        "id": "_Zmgk_M7ZhM1",
        "outputId": "656b6238-b7ff-4f2e-8c60-d857ffb1cb33"
      },
      "execution_count": null,
      "outputs": [
        {
          "output_type": "stream",
          "name": "stdout",
          "text": [
            "Collecting faker\n",
            "  Downloading faker-37.6.0-py3-none-any.whl.metadata (15 kB)\n",
            "Requirement already satisfied: tzdata in /usr/local/lib/python3.12/dist-packages (from faker) (2025.2)\n",
            "Downloading faker-37.6.0-py3-none-any.whl (1.9 MB)\n",
            "\u001b[2K   \u001b[90m━━━━━━━━━━━━━━━━━━━━━━━━━━━━━━━━━━━━━━━━\u001b[0m \u001b[32m1.9/1.9 MB\u001b[0m \u001b[31m17.6 MB/s\u001b[0m eta \u001b[36m0:00:00\u001b[0m\n",
            "\u001b[?25hInstalling collected packages: faker\n",
            "Successfully installed faker-37.6.0\n"
          ]
        }
      ]
    },
    {
      "cell_type": "code",
      "execution_count": null,
      "metadata": {
        "id": "na6NyhCKYIcW"
      },
      "outputs": [],
      "source": [
        "import pandas as pd\n",
        "import numpy as np\n",
        "from faker import Faker\n",
        "import random\n",
        "from datetime import timedelta, datetime, date\n",
        "\n",
        "\n",
        "fake = Faker()\n",
        "Faker.seed(42)\n",
        "np.random.seed(42)\n",
        "random.seed(42)\n",
        "\n",
        "# Parameters\n",
        "NUM_CUSTOMERS = 100\n",
        "NUM_PRODUCTS = 50\n",
        "NUM_ORDERS = 1000\n",
        "INCLUDE_NOISE = True  # set False for squeaky-clean data\n"
      ]
    },
    {
      "cell_type": "code",
      "source": [
        "#customer table\n",
        "\n",
        "customer = pd.DataFrame({\n",
        "        \"customer_id\" : range(1, NUM_CUSTOMERS + 1),\n",
        "        \"first_name\": [fake.first_name() for _ in range(NUM_CUSTOMERS)],\n",
        "        \"last_name\": [fake.last_name() for _ in range(NUM_CUSTOMERS)],\n",
        "        \"email\": [fake.email() for _ in range(NUM_CUSTOMERS)],\n",
        "        \"join_date\": [fake.date_between(start_date=\"-1y\", end_date=\"today\") for _ in range(NUM_CUSTOMERS)]\n",
        "\n",
        "})"
      ],
      "metadata": {
        "id": "nZ1ggNZ5YZaa"
      },
      "execution_count": null,
      "outputs": []
    },
    {
      "cell_type": "code",
      "source": [
        "product_categories = ['Electronics', 'Clothing', 'Home Appliances', 'Books', 'Sports Equipment']\n",
        "products = pd.DataFrame({\n",
        "   'product_id': range(1, NUM_PRODUCTS + 1),\n",
        "   'product_name': [fake.word().capitalize() + ' ' + random.choice(['Pro', 'Plus', 'Lite', 'Max']) for _ in range(NUM_PRODUCTS)],\n",
        "   'category': [random.choice(product_categories) for _ in range(NUM_PRODUCTS)],\n",
        "   'price': [round(random.uniform(10.0, 500.0), 2) for _ in range(NUM_PRODUCTS)]\n",
        "})"
      ],
      "metadata": {
        "id": "vIvlQZH-YjCM"
      },
      "execution_count": null,
      "outputs": []
    },
    {
      "cell_type": "code",
      "source": [
        "orders = []\n",
        "for i in range(1, NUM_ORDERS + 1):\n",
        "    order_date = fake.date_between(start_date='-1y', end_date='today')\n",
        "    # ship 0–7 days after order\n",
        "    ship_lag = np.random.choice(range(0, 8), p=[0.10, 0.20, 0.20, 0.18, 0.12, 0.10, 0.06, 0.04])\n",
        "    ship_date = order_date + timedelta(days=int(ship_lag))\n",
        "\n",
        "    # deliver 1–10 days after ship, with small chance still in transit (NULL)\n",
        "    if np.random.rand() < 0.93:\n",
        "        delivery_lag = np.random.randint(1, 11)\n",
        "        delivery_date = ship_date + timedelta(days=int(delivery_lag))\n",
        "    else:\n",
        "        delivery_date = None  # still in transit / pending\n",
        "\n",
        "    order = {\n",
        "        'order_id': i,\n",
        "        'customer_id': random.randint(1, NUM_CUSTOMERS),\n",
        "        'product_id': random.randint(1, NUM_PRODUCTS),\n",
        "        'quantity': random.randint(1, 5),\n",
        "        'order_date': order_date,\n",
        "        'ship_date': ship_date,\n",
        "        'delivery_date': delivery_date\n",
        "    }\n",
        "    orders.append(order)\n",
        "\n",
        "orders_df = pd.DataFrame(orders)\n",
        "\n",
        "# Add total_price = quantity * price (join with products)\n",
        "orders_df = orders_df.merge(products[['product_id', 'price']], on='product_id', how='left')\n",
        "orders_df['total_price'] = (orders_df['quantity'] * orders_df['price']).round(2)\n"
      ],
      "metadata": {
        "id": "qqaGjzHqb_-A"
      },
      "execution_count": null,
      "outputs": []
    },
    {
      "cell_type": "code",
      "source": [
        "if INCLUDE_NOISE:\n",
        "    # 1) Duplicate a small slice of orders (about 1%)\n",
        "    dupes = orders_df.sample(max(5, int(len(orders_df) * 0.01)), random_state=42)\n",
        "    orders_df = pd.concat([orders_df, dupes], ignore_index=True)\n",
        "\n",
        "    # 2) Inject some NULLs\n",
        "    orders_df.loc[orders_df.sample(8, random_state=42).index, 'customer_id'] = None   # orphan orders\n",
        "    customer.loc[customer.sample(5, random_state=42).index, 'email'] = None         # missing emails\n",
        "\n",
        "    # 3) Inconsistent category casing (lowercase some)\n",
        "    idx = products.sample(max(5, int(len(products)*0.10)), random_state=42).index\n",
        "    products.loc[idx, 'category'] = products.loc[idx, 'category'].str.lower()\n",
        "\n",
        "    # 4) A few outliers: zero/negative quantities & prices\n",
        "    q_idx = orders_df.sample(2, random_state=42).index\n",
        "    orders_df.loc[q_idx, 'quantity'] = [0, -2]  # bad quantities\n",
        "    p_idx = products.sample(2, random_state=42).index\n",
        "    products.loc[p_idx, 'price'] = [0.0, -7.99]  # bad prices\n",
        "\n",
        "    # Re-merge price after product price noise and recompute total\n",
        "    orders_df = orders_df.drop(columns=['price'])\n",
        "    orders_df = orders_df.merge(products[['product_id', 'price']], on='product_id', how='left')\n",
        "    orders_df['total_price'] = (orders_df['quantity'] * orders_df['price']).round(2)"
      ],
      "metadata": {
        "id": "2Z1bNDuscRMN"
      },
      "execution_count": null,
      "outputs": []
    },
    {
      "cell_type": "code",
      "source": [
        "# -------------------------------------------\n",
        "# Save as CSVs (for SQL)\n",
        "# -------------------------------------------\n",
        "customer.to_csv('customers.csv', index=False)\n",
        "products.to_csv('products.csv', index=False)\n",
        "orders_df.to_csv('orders.csv', index=False)"
      ],
      "metadata": {
        "id": "-raMxHaKcVq7"
      },
      "execution_count": null,
      "outputs": []
    },
    {
      "cell_type": "code",
      "source": [],
      "metadata": {
        "id": "DeWf90SRgTAn"
      },
      "execution_count": null,
      "outputs": []
    }
  ]
}